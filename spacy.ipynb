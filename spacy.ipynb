{
 "cells": [
  {
   "cell_type": "code",
   "execution_count": 243,
   "metadata": {},
   "outputs": [],
   "source": [
    "import nltk\n",
    "import spacy\n",
    "import pandas as pd \n",
    "import numpy as np"
   ]
  },
  {
   "cell_type": "code",
   "execution_count": 244,
   "metadata": {},
   "outputs": [],
   "source": [
    "df = pd.read_csv('NER_Dataset.csv')\n",
    "data = df"
   ]
  },
  {
   "cell_type": "code",
   "execution_count": 245,
   "metadata": {},
   "outputs": [
    {
     "data": {
      "text/html": [
       "<div>\n",
       "<style scoped>\n",
       "    .dataframe tbody tr th:only-of-type {\n",
       "        vertical-align: middle;\n",
       "    }\n",
       "\n",
       "    .dataframe tbody tr th {\n",
       "        vertical-align: top;\n",
       "    }\n",
       "\n",
       "    .dataframe thead th {\n",
       "        text-align: right;\n",
       "    }\n",
       "</style>\n",
       "<table border=\"1\" class=\"dataframe\">\n",
       "  <thead>\n",
       "    <tr style=\"text-align: right;\">\n",
       "      <th></th>\n",
       "      <th>Sentence_ID</th>\n",
       "      <th>Word</th>\n",
       "      <th>POS</th>\n",
       "      <th>Tag</th>\n",
       "    </tr>\n",
       "  </thead>\n",
       "  <tbody>\n",
       "    <tr>\n",
       "      <th>0</th>\n",
       "      <td>Sentence: 1</td>\n",
       "      <td>['Thousands', 'of', 'demonstrators', 'have', '...</td>\n",
       "      <td>['NNS', 'IN', 'NNS', 'VBP', 'VBN', 'IN', 'NNP'...</td>\n",
       "      <td>['O', 'O', 'O', 'O', 'O', 'O', 'B-geo', 'O', '...</td>\n",
       "    </tr>\n",
       "    <tr>\n",
       "      <th>1</th>\n",
       "      <td>Sentence: 10</td>\n",
       "      <td>['Iranian', 'officials', 'say', 'they', 'expec...</td>\n",
       "      <td>['JJ', 'NNS', 'VBP', 'PRP', 'VBP', 'TO', 'VB',...</td>\n",
       "      <td>['B-gpe', 'O', 'O', 'O', 'O', 'O', 'O', 'O', '...</td>\n",
       "    </tr>\n",
       "    <tr>\n",
       "      <th>2</th>\n",
       "      <td>Sentence: 100</td>\n",
       "      <td>['Helicopter', 'gunships', 'Saturday', 'pounde...</td>\n",
       "      <td>['NN', 'NNS', 'NNP', 'VBD', 'JJ', 'NNS', 'IN',...</td>\n",
       "      <td>['O', 'O', 'B-tim', 'O', 'O', 'O', 'O', 'O', '...</td>\n",
       "    </tr>\n",
       "    <tr>\n",
       "      <th>3</th>\n",
       "      <td>Sentence: 1000</td>\n",
       "      <td>['They', 'left', 'after', 'a', 'tense', 'hour-...</td>\n",
       "      <td>['PRP', 'VBD', 'IN', 'DT', 'NN', 'JJ', 'NN', '...</td>\n",
       "      <td>['O', 'O', 'O', 'O', 'O', 'O', 'O', 'O', 'O', ...</td>\n",
       "    </tr>\n",
       "    <tr>\n",
       "      <th>4</th>\n",
       "      <td>Sentence: 10000</td>\n",
       "      <td>['U.N.', 'relief', 'coordinator', 'Jan', 'Egel...</td>\n",
       "      <td>['NNP', 'NN', 'NN', 'NNP', 'NNP', 'VBD', 'NNP'...</td>\n",
       "      <td>['B-geo', 'O', 'O', 'B-per', 'I-per', 'O', 'B-...</td>\n",
       "    </tr>\n",
       "    <tr>\n",
       "      <th>...</th>\n",
       "      <td>...</td>\n",
       "      <td>...</td>\n",
       "      <td>...</td>\n",
       "      <td>...</td>\n",
       "    </tr>\n",
       "    <tr>\n",
       "      <th>47954</th>\n",
       "      <td>Sentence: 9995</td>\n",
       "      <td>['Opposition', 'leader', 'Mir', 'Hossein', 'Mo...</td>\n",
       "      <td>['NNP', 'NN', 'NNP', 'NNP', 'NNP', 'VBZ', 'VBN...</td>\n",
       "      <td>['O', 'O', 'O', 'B-per', 'I-per', 'O', 'O', 'O...</td>\n",
       "    </tr>\n",
       "    <tr>\n",
       "      <th>47955</th>\n",
       "      <td>Sentence: 9996</td>\n",
       "      <td>['On', 'Thursday', ',', 'Iranian', 'state', 'm...</td>\n",
       "      <td>['IN', 'NNP', ',', 'JJ', 'NN', 'NNS', 'VBN', '...</td>\n",
       "      <td>['O', 'B-tim', 'O', 'B-gpe', 'O', 'O', 'O', 'O...</td>\n",
       "    </tr>\n",
       "    <tr>\n",
       "      <th>47956</th>\n",
       "      <td>Sentence: 9997</td>\n",
       "      <td>['Following', 'Iran', \"'s\", 'disputed', 'June'...</td>\n",
       "      <td>['VBG', 'NNP', 'POS', 'JJ', 'NNP', 'CD', 'NNS'...</td>\n",
       "      <td>['O', 'B-geo', 'O', 'O', 'B-tim', 'I-tim', 'O'...</td>\n",
       "    </tr>\n",
       "    <tr>\n",
       "      <th>47957</th>\n",
       "      <td>Sentence: 9998</td>\n",
       "      <td>['Since', 'then', ',', 'authorities', 'have', ...</td>\n",
       "      <td>['IN', 'RB', ',', 'NNS', 'VBP', 'VBN', 'JJ', '...</td>\n",
       "      <td>['O', 'O', 'O', 'O', 'O', 'O', 'O', 'O', 'O', ...</td>\n",
       "    </tr>\n",
       "    <tr>\n",
       "      <th>47958</th>\n",
       "      <td>Sentence: 9999</td>\n",
       "      <td>['The', 'United', 'Nations', 'is', 'praising',...</td>\n",
       "      <td>['DT', 'NNP', 'NNP', 'VBZ', 'VBG', 'DT', 'NN',...</td>\n",
       "      <td>['O', 'B-org', 'I-org', 'O', 'O', 'O', 'O', 'O...</td>\n",
       "    </tr>\n",
       "  </tbody>\n",
       "</table>\n",
       "<p>47959 rows × 4 columns</p>\n",
       "</div>"
      ],
      "text/plain": [
       "           Sentence_ID                                               Word  \\\n",
       "0          Sentence: 1  ['Thousands', 'of', 'demonstrators', 'have', '...   \n",
       "1         Sentence: 10  ['Iranian', 'officials', 'say', 'they', 'expec...   \n",
       "2        Sentence: 100  ['Helicopter', 'gunships', 'Saturday', 'pounde...   \n",
       "3       Sentence: 1000  ['They', 'left', 'after', 'a', 'tense', 'hour-...   \n",
       "4      Sentence: 10000  ['U.N.', 'relief', 'coordinator', 'Jan', 'Egel...   \n",
       "...                ...                                                ...   \n",
       "47954   Sentence: 9995  ['Opposition', 'leader', 'Mir', 'Hossein', 'Mo...   \n",
       "47955   Sentence: 9996  ['On', 'Thursday', ',', 'Iranian', 'state', 'm...   \n",
       "47956   Sentence: 9997  ['Following', 'Iran', \"'s\", 'disputed', 'June'...   \n",
       "47957   Sentence: 9998  ['Since', 'then', ',', 'authorities', 'have', ...   \n",
       "47958   Sentence: 9999  ['The', 'United', 'Nations', 'is', 'praising',...   \n",
       "\n",
       "                                                     POS  \\\n",
       "0      ['NNS', 'IN', 'NNS', 'VBP', 'VBN', 'IN', 'NNP'...   \n",
       "1      ['JJ', 'NNS', 'VBP', 'PRP', 'VBP', 'TO', 'VB',...   \n",
       "2      ['NN', 'NNS', 'NNP', 'VBD', 'JJ', 'NNS', 'IN',...   \n",
       "3      ['PRP', 'VBD', 'IN', 'DT', 'NN', 'JJ', 'NN', '...   \n",
       "4      ['NNP', 'NN', 'NN', 'NNP', 'NNP', 'VBD', 'NNP'...   \n",
       "...                                                  ...   \n",
       "47954  ['NNP', 'NN', 'NNP', 'NNP', 'NNP', 'VBZ', 'VBN...   \n",
       "47955  ['IN', 'NNP', ',', 'JJ', 'NN', 'NNS', 'VBN', '...   \n",
       "47956  ['VBG', 'NNP', 'POS', 'JJ', 'NNP', 'CD', 'NNS'...   \n",
       "47957  ['IN', 'RB', ',', 'NNS', 'VBP', 'VBN', 'JJ', '...   \n",
       "47958  ['DT', 'NNP', 'NNP', 'VBZ', 'VBG', 'DT', 'NN',...   \n",
       "\n",
       "                                                     Tag  \n",
       "0      ['O', 'O', 'O', 'O', 'O', 'O', 'B-geo', 'O', '...  \n",
       "1      ['B-gpe', 'O', 'O', 'O', 'O', 'O', 'O', 'O', '...  \n",
       "2      ['O', 'O', 'B-tim', 'O', 'O', 'O', 'O', 'O', '...  \n",
       "3      ['O', 'O', 'O', 'O', 'O', 'O', 'O', 'O', 'O', ...  \n",
       "4      ['B-geo', 'O', 'O', 'B-per', 'I-per', 'O', 'B-...  \n",
       "...                                                  ...  \n",
       "47954  ['O', 'O', 'O', 'B-per', 'I-per', 'O', 'O', 'O...  \n",
       "47955  ['O', 'B-tim', 'O', 'B-gpe', 'O', 'O', 'O', 'O...  \n",
       "47956  ['O', 'B-geo', 'O', 'O', 'B-tim', 'I-tim', 'O'...  \n",
       "47957  ['O', 'O', 'O', 'O', 'O', 'O', 'O', 'O', 'O', ...  \n",
       "47958  ['O', 'B-org', 'I-org', 'O', 'O', 'O', 'O', 'O...  \n",
       "\n",
       "[47959 rows x 4 columns]"
      ]
     },
     "execution_count": 245,
     "metadata": {},
     "output_type": "execute_result"
    }
   ],
   "source": [
    "data"
   ]
  },
  {
   "cell_type": "code",
   "execution_count": 246,
   "metadata": {},
   "outputs": [],
   "source": [
    "sentences =  data['Word'].apply(eval).apply(' '.join)"
   ]
  },
  {
   "cell_type": "code",
   "execution_count": 247,
   "metadata": {},
   "outputs": [],
   "source": [
    "nlp = spacy.load('en_core_web_sm')\n"
   ]
  },
  {
   "cell_type": "code",
   "execution_count": 248,
   "metadata": {},
   "outputs": [],
   "source": [
    "docs = list(nlp.pipe(sentences))"
   ]
  },
  {
   "cell_type": "code",
   "execution_count": 249,
   "metadata": {},
   "outputs": [],
   "source": [
    "tp = data.loc[:,'POS']"
   ]
  },
  {
   "cell_type": "code",
   "execution_count": 250,
   "metadata": {},
   "outputs": [],
   "source": [
    "tp_listoflists = tp.apply(eval).tolist()\n",
    "true_pos = tp_listoflists"
   ]
  },
  {
   "cell_type": "code",
   "execution_count": 251,
   "metadata": {},
   "outputs": [],
   "source": [
    "pred_pos = []\n",
    "for sentence in sentences:\n",
    "    doc = nlp(sentence)\n",
    "    pred_pos.append([token.tag_ for token in doc])"
   ]
  },
  {
   "cell_type": "code",
   "execution_count": 252,
   "metadata": {},
   "outputs": [
    {
     "data": {
      "text/plain": [
       "47959"
      ]
     },
     "execution_count": 252,
     "metadata": {},
     "output_type": "execute_result"
    }
   ],
   "source": [
    "len(true_pos)"
   ]
  },
  {
   "cell_type": "code",
   "execution_count": 253,
   "metadata": {},
   "outputs": [],
   "source": [
    "import itertools\n",
    "merged1 = list(itertools.chain(*pred_pos))\n",
    "merged2 = list(itertools.chain(*true_pos))"
   ]
  },
  {
   "cell_type": "code",
   "execution_count": 254,
   "metadata": {},
   "outputs": [],
   "source": [
    "u1 = (set(merged))\n",
    "u2 = (set(merged2))"
   ]
  },
  {
   "cell_type": "code",
   "execution_count": 255,
   "metadata": {},
   "outputs": [
    {
     "name": "stdout",
     "output_type": "stream",
     "text": [
      "_SP\n",
      "HYPH\n",
      "ADD\n",
      "''\n",
      "XX\n"
     ]
    }
   ],
   "source": [
    "for i in u1:\n",
    "    if i not in u2:\n",
    "        print(i)"
   ]
  },
  {
   "cell_type": "code",
   "execution_count": 256,
   "metadata": {},
   "outputs": [
    {
     "name": "stdout",
     "output_type": "stream",
     "text": [
      "PDT\n",
      "RRB\n",
      "FW\n",
      "UH\n",
      ";\n",
      "RBR\n",
      "EX\n",
      "LRB\n"
     ]
    }
   ],
   "source": [
    "for j in u2:\n",
    "    if j not in u1:\n",
    "        print(j)"
   ]
  },
  {
   "cell_type": "code",
   "execution_count": 257,
   "metadata": {},
   "outputs": [],
   "source": [
    "merged_pred = []\n",
    "for i in merged1:\n",
    "    if i in u2:\n",
    "        merged_pred.append(i)"
   ]
  },
  {
   "cell_type": "code",
   "execution_count": 258,
   "metadata": {},
   "outputs": [
    {
     "data": {
      "text/plain": [
       "1048575"
      ]
     },
     "execution_count": 258,
     "metadata": {},
     "output_type": "execute_result"
    }
   ],
   "source": [
    "len(merged2)"
   ]
  },
  {
   "cell_type": "code",
   "execution_count": 259,
   "metadata": {},
   "outputs": [
    {
     "data": {
      "text/plain": [
       "{'NN': 145807,\n",
       " 'NNP': 131426,\n",
       " 'IN': 120996,\n",
       " 'DT': 98454,\n",
       " 'JJ': 78412,\n",
       " 'NNS': 75840,\n",
       " '.': 47831,\n",
       " 'VBD': 39379,\n",
       " ',': 32757,\n",
       " 'VBN': 32328,\n",
       " 'VBZ': 24960,\n",
       " 'CD': 24695,\n",
       " 'VB': 24211,\n",
       " 'CC': 23716,\n",
       " 'TO': 23061,\n",
       " 'RB': 20252,\n",
       " 'VBG': 19125,\n",
       " 'VBP': 16158,\n",
       " 'PRP': 13318,\n",
       " 'POS': 11257,\n",
       " 'PRP$': 8655,\n",
       " 'MD': 6973,\n",
       " '``': 3728,\n",
       " 'WDT': 3698,\n",
       " 'JJS': 3034,\n",
       " 'JJR': 2967,\n",
       " 'WP': 2542,\n",
       " 'NNPS': 2521,\n",
       " 'RP': 2490,\n",
       " 'WRB': 2184,\n",
       " '$': 1149,\n",
       " 'RBR': 1055,\n",
       " ':': 795,\n",
       " 'RRB': 679,\n",
       " 'LRB': 678,\n",
       " 'EX': 663,\n",
       " 'RBS': 296,\n",
       " ';': 214,\n",
       " 'PDT': 147,\n",
       " 'WP$': 99,\n",
       " 'UH': 24,\n",
       " 'FW': 1}"
      ]
     },
     "execution_count": 259,
     "metadata": {},
     "output_type": "execute_result"
    }
   ],
   "source": [
    "d1 = pd.Series(merged2)\n",
    "v1 = d1.value_counts().to_dict()\n",
    "v1"
   ]
  },
  {
   "cell_type": "code",
   "execution_count": 260,
   "metadata": {},
   "outputs": [
    {
     "data": {
      "text/plain": [
       "{'NN': 147295,\n",
       " 'NNP': 138102,\n",
       " 'IN': 126385,\n",
       " 'DT': 98154,\n",
       " 'JJ': 75648,\n",
       " 'NNS': 73949,\n",
       " '.': 47854,\n",
       " 'VBD': 39930,\n",
       " 'VBN': 35098,\n",
       " ',': 32929,\n",
       " 'CD': 26539,\n",
       " 'VBZ': 25098,\n",
       " 'VB': 24563,\n",
       " 'CC': 23868,\n",
       " 'RB': 22671,\n",
       " 'VBG': 19581,\n",
       " 'VBP': 16229,\n",
       " 'TO': 15150,\n",
       " 'PRP': 13368,\n",
       " 'POS': 11252,\n",
       " 'PRP$': 8640,\n",
       " 'MD': 6993,\n",
       " 'WDT': 3940,\n",
       " 'NNPS': 3634,\n",
       " 'JJR': 3100,\n",
       " 'RP': 3025,\n",
       " 'WP': 2558,\n",
       " 'WRB': 2185,\n",
       " 'JJS': 2160,\n",
       " '``': 1747,\n",
       " 'RBS': 1198,\n",
       " 'RBR': 1159,\n",
       " '$': 1147,\n",
       " ':': 985,\n",
       " 'EX': 648,\n",
       " 'PDT': 227,\n",
       " 'WP$': 99,\n",
       " 'UH': 92,\n",
       " 'FW': 48}"
      ]
     },
     "execution_count": 260,
     "metadata": {},
     "output_type": "execute_result"
    }
   ],
   "source": [
    "d2 = pd.Series(merged_pred)\n",
    "v2 = d2.value_counts().to_dict()\n",
    "v2"
   ]
  },
  {
   "cell_type": "code",
   "execution_count": 261,
   "metadata": {},
   "outputs": [
    {
     "data": {
      "text/plain": [
       "0.9571780750065565"
      ]
     },
     "execution_count": 261,
     "metadata": {},
     "output_type": "execute_result"
    }
   ],
   "source": [
    "#find the difference in value counts in the dictionaries\n",
    "diff = {}\n",
    "total = 0 \n",
    "for key in v1:\n",
    "    if key in v2:\n",
    "        diff[key] = v1[key] - v2[key]\n",
    "    else:\n",
    "        diff[key] = v1[key]\n",
    "        total = total + v1[key] \n",
    "    \n",
    "#find the total\n",
    "\n",
    "for key in diff:\n",
    "    total += abs(diff[key])\n",
    "accuracy = 1 - (total/len(merged2))\n",
    "accuracy"
   ]
  },
  {
   "cell_type": "code",
   "execution_count": 262,
   "metadata": {},
   "outputs": [],
   "source": [
    "nt = data.loc[:,'Tag']\n",
    "nt_listoflists = nt.apply(eval).tolist()\n",
    "ner_true = nt_listoflists\n",
    "ner_truemerged2 = list(itertools.chain(*ner_true))"
   ]
  },
  {
   "cell_type": "code",
   "execution_count": 263,
   "metadata": {},
   "outputs": [],
   "source": [
    "ner_truemerged = []\n",
    "for i in ner_truemerged2:\n",
    "    if i != 'O':\n",
    "        ner_truemerged.append(i)\n"
   ]
  },
  {
   "cell_type": "code",
   "execution_count": 264,
   "metadata": {},
   "outputs": [],
   "source": [
    "ner_pred = []\n",
    "for sentence in sentences:\n",
    "    doc = nlp(sentence)\n",
    "    ner_pred.append([ent.label_ for ent in doc.ents])\n",
    "\n",
    "ner_predmerged = list(itertools.chain(*ner_pred))"
   ]
  },
  {
   "cell_type": "code",
   "execution_count": 265,
   "metadata": {},
   "outputs": [
    {
     "name": "stdout",
     "output_type": "stream",
     "text": [
      "160667\n",
      "138789\n",
      "{'B-geo': 37644, 'B-tim': 20333, 'B-org': 20143, 'I-per': 17251, 'B-per': 16990, 'I-org': 16784, 'B-gpe': 15870, 'I-geo': 7414, 'I-tim': 6528, 'B-art': 402, 'B-eve': 308, 'I-art': 297, 'I-eve': 253, 'B-nat': 201, 'I-gpe': 198, 'I-nat': 51}\n",
      "{'GPE': 36865, 'DATE': 24474, 'NORP': 18743, 'PERSON': 17210, 'ORG': 16864, 'CARDINAL': 13843, 'LOC': 2526, 'ORDINAL': 2018, 'MONEY': 1404, 'PERCENT': 1081, 'EVENT': 890, 'TIME': 827, 'QUANTITY': 693, 'FAC': 603, 'PRODUCT': 304, 'WORK_OF_ART': 298, 'LAW': 75, 'LANGUAGE': 71}\n"
     ]
    }
   ],
   "source": [
    "print(len(ner_truemerged))\n",
    "print(len(ner_predmerged))\n",
    "ner_truemergedctr = pd.Series(ner_truemerged).value_counts().to_dict()\n",
    "ner_predmergedctr = pd.Series(ner_predmerged).value_counts().to_dict()\n",
    "print(ner_truemergedctr)\n",
    "print(ner_predmergedctr)"
   ]
  },
  {
   "cell_type": "code",
   "execution_count": 266,
   "metadata": {},
   "outputs": [
    {
     "name": "stdout",
     "output_type": "stream",
     "text": [
      "{'B-geo': 36865, 'B-tim': 827, 'B-per': 17210, 'B-org': 16864, 'B-gpe': 2526, 'B-eve': 890, 'B-art': 298}\n",
      "{'B-geo': 37644, 'B-tim': 20333, 'B-org': 20143, 'I-per': 17251, 'B-per': 16990, 'I-org': 16784, 'B-gpe': 15870, 'I-geo': 7414, 'I-tim': 6528, 'B-art': 402, 'B-eve': 308, 'I-art': 297, 'I-eve': 253, 'B-nat': 201, 'I-gpe': 198, 'I-nat': 51}\n"
     ]
    }
   ],
   "source": [
    "# Second dictionary provided\n",
    "second_dict = ner_predmergedctr\n",
    "\n",
    "\n",
    "#It is my own estimate that gpe here matches to geo in the original dictionary and vice versa, because the values counted seem to be similar\n",
    "# Also, I anm considering only the B- labels as I estimate that the I- labels count the same tag again. The library considers this only once\n",
    "# Mapping from second to original keys with only B- labels\n",
    "reverse_mapping = {\n",
    "    'DATE': 'B-tim',\n",
    "    'TIME': 'B-tim',\n",
    "    'PERSON': 'B-per',\n",
    "    'GPE': 'B-geo',\n",
    "    'ORG': 'B-org',\n",
    "    'LOC': 'B-gpe',\n",
    "    'WORK_OF_ART': 'B-art',\n",
    "    'EVENT': 'B-eve'\n",
    "}\n",
    "\n",
    "# New dictionary to hold converted values\n",
    "converted_dict = {}\n",
    "\n",
    "# Convert without summing as we're using only B- labels\n",
    "for key, value in second_dict.items():\n",
    "    new_key = reverse_mapping.get(key)  # Get the new key from the mapping\n",
    "    if new_key:  # If the key exists in the mapping\n",
    "        converted_dict[new_key] = value\n",
    "\n",
    "print(converted_dict)\n",
    "print(ner_truemergedctr)\n"
   ]
  },
  {
   "cell_type": "code",
   "execution_count": 267,
   "metadata": {},
   "outputs": [
    {
     "data": {
      "text/plain": [
       "0.7646436418181705"
      ]
     },
     "execution_count": 267,
     "metadata": {},
     "output_type": "execute_result"
    }
   ],
   "source": [
    "#find the difference in value counts in the dictionaries\n",
    "diff = {}\n",
    "for key in converted_dict:\n",
    "    diff[key] = (ner_truemergedctr[key] - converted_dict[key])\n",
    "\n",
    "#find the total\n",
    "total = 0\n",
    "for key in diff:\n",
    "    if key in converted_dict:\n",
    "        total += abs(diff[key])\n",
    "accuracy = 1 - (total/len(ner_truemerged))\n",
    "accuracy"
   ]
  },
  {
   "cell_type": "code",
   "execution_count": 268,
   "metadata": {},
   "outputs": [
    {
     "name": "stdout",
     "output_type": "stream",
     "text": [
      "confusion matrix: \n",
      " matches:  122853 \n",
      " mismatches:  37814 \n",
      " total:  160667\n"
     ]
    }
   ],
   "source": [
    "print(\"confusion matrix: \\n matches: \", len(ner_truemerged) - total, \"\\n mismatches: \", total, \"\\n total: \", len(ner_truemerged))"
   ]
  },
  {
   "cell_type": "code",
   "execution_count": 269,
   "metadata": {},
   "outputs": [
    {
     "name": "stdout",
     "output_type": "stream",
     "text": [
      "Predicted  CARDINAL   DATE  EVENT  FAC    GPE  LANGUAGE  LAW   LOC  MONEY  \\\n",
      "True                                                                        \n",
      "B-art            30     64      5    1    100         1    0     6      3   \n",
      "B-eve            30     58      1    1     57         0    0     4      2   \n",
      "B-geo          3230   5737    223  134   8647        16   20   548    322   \n",
      "B-gpe          1296   2365     53   43   3676         4    7   260    139   \n",
      "B-nat            18     30      0    0     49         0    0     6      3   \n",
      "B-org          1764   3018    115   83   4584         9    8   328    173   \n",
      "B-per          1492   2539     86   62   3901        11    5   271    148   \n",
      "B-tim          1706   3176    117   86   4650        15   11   324    188   \n",
      "I-art            33     43      4    0     59         0    0     6      4   \n",
      "I-eve            26     39      2    0     49         0    0     4      4   \n",
      "I-geo           641   1118     40   27   1691         4    3   100     59   \n",
      "I-gpe            16     31      5    0     44         0    1     3      1   \n",
      "I-nat             5      5      0    0     12         0    0     1      1   \n",
      "I-org          1460   2513     87   66   3918         5    7   273    138   \n",
      "I-per          1507   2761    109   66   3936         2   10   283    155   \n",
      "I-tim           589    977     43   34   1492         4    3   109     64   \n",
      "All           13843  24474    890  603  36865        71   75  2526   1404   \n",
      "\n",
      "Predicted   NORP  ORDINAL    ORG  PERCENT  PERSON  PRODUCT  QUANTITY  TIME  \\\n",
      "True                                                                         \n",
      "B-art         38        4     40        4      44        0         3     4   \n",
      "B-eve         43        4     30        3      21        2         0     2   \n",
      "B-geo       4417      486   3963      250    3931       59       171   205   \n",
      "B-gpe       1873      208   1658      100    1666       26        69    75   \n",
      "B-nat         20        1     28        2      16        0         1     0   \n",
      "B-org       2357      227   2116      138    2224       45        76   111   \n",
      "B-per       1989      207   1821      113    1804       35        78   100   \n",
      "B-tim       2367      248   2099      132    2211       45        93   106   \n",
      "I-art         31        5     37        0      39        0         2     2   \n",
      "I-eve         32        6     26        1      28        0         1     3   \n",
      "I-geo        854      112    754       55     819       12        24    38   \n",
      "I-gpe         25        3     18        0      22        0         0     0   \n",
      "I-nat          5        1      4        0       3        0         0     0   \n",
      "I-org       1922      204   1848      120    1821       35        70    73   \n",
      "I-per       1989      216   1741      115    1863       35        69    72   \n",
      "I-tim        781       86    681       48     698       10        36    36   \n",
      "All        18743     2018  16864     1081   17210      304       693   827   \n",
      "\n",
      "Predicted  WORK_OF_ART     All  \n",
      "True                            \n",
      "B-art                1     348  \n",
      "B-eve                1     259  \n",
      "B-geo               65   32424  \n",
      "B-gpe               33   13551  \n",
      "B-nat                0     174  \n",
      "B-org               34   17410  \n",
      "B-per               41   14703  \n",
      "B-tim               33   17607  \n",
      "I-art                3     268  \n",
      "I-eve                0     221  \n",
      "I-geo               14    6365  \n",
      "I-gpe                1     170  \n",
      "I-nat                0      37  \n",
      "I-org               34   14594  \n",
      "I-per               24   14953  \n",
      "I-tim               14    5705  \n",
      "All                298  138789  \n"
     ]
    }
   ],
   "source": [
    "print(pd.crosstab(pd.Series(ner_truemerged), pd.Series(ner_predmerged), rownames=['True'], colnames=['Predicted'], margins=True))"
   ]
  },
  {
   "cell_type": "code",
   "execution_count": null,
   "metadata": {},
   "outputs": [],
   "source": []
  }
 ],
 "metadata": {
  "kernelspec": {
   "display_name": "base",
   "language": "python",
   "name": "python3"
  },
  "language_info": {
   "codemirror_mode": {
    "name": "ipython",
    "version": 3
   },
   "file_extension": ".py",
   "mimetype": "text/x-python",
   "name": "python",
   "nbconvert_exporter": "python",
   "pygments_lexer": "ipython3",
   "version": "3.11.5"
  }
 },
 "nbformat": 4,
 "nbformat_minor": 2
}
